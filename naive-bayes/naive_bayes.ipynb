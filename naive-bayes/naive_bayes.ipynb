{
 "cells": [
  {
   "cell_type": "code",
   "execution_count": null,
   "metadata": {},
   "outputs": [],
   "source": [
    "from utils import process_comment, lookup\n",
    "import json\n",
    "from nltk.corpus import stopwords, twitter_samples\n",
    "import numpy as np\n"
   ]
  },
  {
   "cell_type": "code",
   "execution_count": null,
   "metadata": {},
   "outputs": [],
   "source": [
    "all_positive_comments = json.loads(open('all_positive_comments.json').read())\n",
    "all_negative_comments = json.loads(open('all_negative_comments.json').read())"
   ]
  },
  {
   "cell_type": "code",
   "execution_count": null,
   "metadata": {},
   "outputs": [],
   "source": [
    "test_pos = all_positive_comments[4000:8000]\n",
    "train_pos = all_positive_comments[:4000]\n",
    "test_neg = all_negative_comments[4000:8000]\n",
    "train_neg = all_negative_comments[:4000]\n",
    "\n",
    "train_x = train_pos + train_neg\n",
    "test_x = test_pos + test_neg\n",
    "\n",
    "train_y = np.append(np.ones(len(train_pos)), np.zeros(len(train_neg)))\n",
    "test_y = np.append(np.ones(len(test_pos)), np.zeros(len(test_neg)))"
   ]
  },
  {
   "cell_type": "code",
   "execution_count": null,
   "metadata": {},
   "outputs": [],
   "source": [
    "custom_comment = \"Bu ürünü gerçekten çok beğendim. Çok kullanışlı. Herkese öneriyorum.\"\n",
    "custom_comment = process_comment(custom_comment)\n",
    "\n",
    "print(custom_comment)"
   ]
  },
  {
   "cell_type": "code",
   "execution_count": null,
   "metadata": {},
   "outputs": [],
   "source": [
    "def count_comments(result, comments, ys):\n",
    "    for y, comment in zip(ys, comments):\n",
    "        for word in process_comment(comment):\n",
    "            pair = (word, y)\n",
    "            \n",
    "            if pair in result:\n",
    "                result[pair] += 1\n",
    "\n",
    "            else:\n",
    "                result[pair] = 1\n",
    "   \n",
    "\n",
    "    return result"
   ]
  },
  {
   "cell_type": "code",
   "execution_count": null,
   "metadata": {},
   "outputs": [],
   "source": [
    "result = {}\n",
    "tweets = ['ürün güzel', 'beğenmedim ', 'tavsiye ederim', 'kötü olmuş', 'almalısın']\n",
    "ys = [1, 0, 1, 0, 1]\n",
    "count_comments(result, tweets, ys)"
   ]
  },
  {
   "cell_type": "code",
   "execution_count": null,
   "metadata": {},
   "outputs": [],
   "source": [
    "freqs = count_comments({}, train_x, train_y)"
   ]
  },
  {
   "cell_type": "code",
   "execution_count": null,
   "metadata": {},
   "outputs": [],
   "source": [
    "def train_naive_bayes(freqs, train_x, train_y):\n",
    "    \n",
    "    loglikelihood = {}\n",
    "    logprior = 0\n",
    "\n",
    "    vocab = [pair[0] for pair in freqs.keys()]\n",
    "    \n",
    "    V = len(set(vocab))\n",
    "\n",
    "    N_pos = N_neg = 0\n",
    "    for pair in freqs.keys():\n",
    "        if pair[1] > 0:\n",
    "            N_pos += freqs[pair]\n",
    "\n",
    "        else:\n",
    "            N_neg += freqs[pair]\n",
    "    \n",
    "    D = len(train_y)\n",
    "\n",
    "    D_pos = sum(train_y) / D\n",
    "\n",
    "    D_neg = (1 - D_pos)\n",
    "\n",
    "    logprior = np.log(D_pos) - np.log(D_neg)\n",
    "    \n",
    "    for word in vocab:\n",
    "        freq_pos = lookup(freqs, word, 1)  \n",
    "        freq_neg = lookup(freqs, word, 0)\n",
    "        \n",
    "        p_w_pos = (freq_pos + 1) / (N_pos + V)  \n",
    "        p_w_neg = (freq_neg + 1) / (N_neg + V)\n",
    "\n",
    "        loglikelihood[word] = np.log(p_w_pos) - np.log(p_w_neg)\n",
    "   \n",
    "    return logprior, loglikelihood"
   ]
  },
  {
   "cell_type": "code",
   "execution_count": null,
   "metadata": {},
   "outputs": [],
   "source": [
    "logprior, loglikelihood = train_naive_bayes(freqs, train_x, train_y)\n",
    "print(logprior)"
   ]
  },
  {
   "cell_type": "code",
   "execution_count": null,
   "metadata": {},
   "outputs": [],
   "source": [
    "def naive_bayes_predict(tweet, logprior, loglikelihood):\n",
    "    word_l = [word for word in process_comment(tweet)]\n",
    "    p = 0\n",
    "    p += logprior\n",
    "    for word in word_l:\n",
    "\n",
    "        if word in loglikelihood:\n",
    "            p += loglikelihood[word]\n",
    "\n",
    "    return p"
   ]
  },
  {
   "cell_type": "code",
   "execution_count": null,
   "metadata": {},
   "outputs": [],
   "source": [
    "my_comment = 'ürün kırık geldi hiç beğenmedim'\n",
    "p = naive_bayes_predict(my_comment, logprior, loglikelihood)\n",
    "print('The expected output is', p)"
   ]
  },
  {
   "cell_type": "code",
   "execution_count": null,
   "metadata": {},
   "outputs": [],
   "source": [
    "my_comment= 'herkese tavsiye ederim'\n",
    "p = naive_bayes_predict(my_comment, logprior, loglikelihood)\n",
    "print('The expected output is', p)"
   ]
  },
  {
   "cell_type": "code",
   "execution_count": null,
   "metadata": {},
   "outputs": [],
   "source": [
    "my_comment= 'ortalama'\n",
    "p = naive_bayes_predict(my_comment, logprior, loglikelihood)\n",
    "print('The expected output is', p)"
   ]
  },
  {
   "cell_type": "code",
   "execution_count": null,
   "metadata": {},
   "outputs": [],
   "source": [
    "def test_naive_bayes(test_x, test_y, logprior, loglikelihood, naive_bayes_predict=naive_bayes_predict):\n",
    "    accuracy = 0\n",
    "\n",
    "    y_hats = []\n",
    "    for tweet in test_x:\n",
    "        if naive_bayes_predict(tweet, logprior, loglikelihood) > 0:\n",
    "            y_hat_i = 1\n",
    "        else:\n",
    "            y_hat_i = 0\n",
    "\n",
    "        y_hats.append(y_hat_i)\n",
    "\n",
    "    error = sum(abs(y_hat - y) for y_hat, y in zip(y_hats, test_y)) / len(y_hats)\n",
    "\n",
    "   \n",
    "    accuracy = 1 - error\n",
    "    return accuracy"
   ]
  },
  {
   "cell_type": "code",
   "execution_count": null,
   "metadata": {},
   "outputs": [],
   "source": [
    "print(\"Naive Bayes accuracy = %0.4f\" %\n",
    "      (test_naive_bayes(test_x, test_y, logprior, loglikelihood)))"
   ]
  },
  {
   "cell_type": "code",
   "execution_count": null,
   "metadata": {},
   "outputs": [],
   "source": [
    "for comment in ['babam çok sevdi',\n",
    "              'gerçekten harika', \n",
    "              'tam istediğim gibi', \n",
    "              'küçük geldi iade', \n",
    "              'çok pahalı', \n",
    "              'güzel güzel', \n",
    "              'güzel güzel güzel', \n",
    "              'güzel güzel güzel güzel']:\n",
    "    p = naive_bayes_predict(comment, logprior, loglikelihood)\n",
    "    print(f'{comment} -> {p:.2f} -> {\"Pozitif\" if p > 0 else \"Negatif\"}')"
   ]
  }
 ],
 "metadata": {
  "kernelspec": {
   "display_name": "nlp",
   "language": "python",
   "name": "python3"
  },
  "language_info": {
   "codemirror_mode": {
    "name": "ipython",
    "version": 3
   },
   "file_extension": ".py",
   "mimetype": "text/x-python",
   "name": "python",
   "nbconvert_exporter": "python",
   "pygments_lexer": "ipython3",
   "version": "3.10.16"
  }
 },
 "nbformat": 4,
 "nbformat_minor": 2
}
